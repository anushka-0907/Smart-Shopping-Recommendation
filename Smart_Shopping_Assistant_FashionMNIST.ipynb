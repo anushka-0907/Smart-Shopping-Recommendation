{
 "cells": [
  {
   "cell_type": "markdown",
   "id": "5f75306b",
   "metadata": {},
   "source": [
    "# Smart Shopping Assistant using CNN and Feature Matching\n",
    "**Objective**: Build a simplified Smart Shopping Assistant that:\n",
    "- Classifies fashion items using a CNN trained on Fashion MNIST.\n",
    "- Simulates user browsing history/photo gallery.\n",
    "- Uses basic OpenCV-based feature matching.\n",
    "- Suggests similar items and filters by price range.\n"
   ]
  },
  {
   "cell_type": "code",
   "execution_count": null,
   "id": "0eb165e2",
   "metadata": {},
   "outputs": [],
   "source": [
    "import numpy as np\n",
    "import matplotlib.pyplot as plt\n",
    "import cv2\n",
    "import random\n",
    "from tensorflow.keras.datasets import fashion_mnist\n",
    "from tensorflow.keras.models import Sequential\n",
    "from tensorflow.keras.layers import Conv2D, MaxPooling2D, Flatten, Dense\n",
    "from tensorflow.keras.utils import to_categorical\n",
    "from sklearn.metrics.pairwise import cosine_similarity"
   ]
  },
  {
   "cell_type": "code",
   "execution_count": null,
   "id": "90e6c282",
   "metadata": {},
   "outputs": [],
   "source": [
    "# Load Fashion MNIST dataset\n",
    "(x_train, y_train), (x_test, y_test) = fashion_mnist.load_data()\n",
    "\n",
    "# Normalize and reshape data\n",
    "x_train = x_train / 255.0\n",
    "x_test = x_test / 255.0\n",
    "x_train = x_train.reshape(-1, 28, 28, 1)\n",
    "x_test = x_test.reshape(-1, 28, 28, 1)\n",
    "y_train_cat = to_categorical(y_train)\n",
    "y_test_cat = to_categorical(y_test)\n",
    "\n",
    "# Fashion MNIST class names\n",
    "class_names = ['T-shirt/top', 'Trouser', 'Pullover', 'Dress', 'Coat', \n",
    "               'Sandal', 'Shirt', 'Sneaker', 'Bag', 'Ankle boot']"
   ]
  },
  {
   "cell_type": "code",
   "execution_count": null,
   "id": "7042a203",
   "metadata": {},
   "outputs": [],
   "source": [
    "model = Sequential([\n",
    "    Conv2D(32, (3,3), activation='relu', input_shape=(28,28,1)),\n",
    "    MaxPooling2D((2,2)),\n",
    "    Conv2D(64, (3,3), activation='relu'),\n",
    "    MaxPooling2D((2,2)),\n",
    "    Flatten(),\n",
    "    Dense(128, activation='relu'),\n",
    "    Dense(10, activation='softmax')\n",
    "])\n",
    "\n",
    "model.compile(optimizer='adam', loss='categorical_crossentropy', metrics=['accuracy'])\n",
    "model.fit(x_train, y_train_cat, epochs=3, validation_data=(x_test, y_test_cat))"
   ]
  },
  {
   "cell_type": "code",
   "execution_count": null,
   "id": "bd3f66e0",
   "metadata": {},
   "outputs": [],
   "source": [
    "# Simulate browsing history with 5 random test images\n",
    "indices = random.sample(range(len(x_test)), 5)\n",
    "browsing_images = x_test[indices]\n",
    "browsing_labels = y_test[indices]\n",
    "\n",
    "plt.figure(figsize=(10,2))\n",
    "for i, idx in enumerate(indices):\n",
    "    plt.subplot(1, 5, i+1)\n",
    "    plt.imshow(x_test[idx].reshape(28, 28), cmap='gray')\n",
    "    plt.title(class_names[y_test[idx]])\n",
    "    plt.axis('off')\n",
    "plt.show()"
   ]
  },
  {
   "cell_type": "code",
   "execution_count": null,
   "id": "d9abb63c",
   "metadata": {},
   "outputs": [],
   "source": [
    "def feature_descriptor(img):\n",
    "    orb = cv2.ORB_create()\n",
    "    keypoints, descriptors = orb.detectAndCompute((img*255).astype(np.uint8), None)\n",
    "    return descriptors\n",
    "\n",
    "# Get descriptors for browsing images\n",
    "browsing_descriptors = [feature_descriptor(img.reshape(28,28)) for img in browsing_images]"
   ]
  },
  {
   "cell_type": "code",
   "execution_count": null,
   "id": "8bc37eca",
   "metadata": {},
   "outputs": [],
   "source": [
    "# Pick a random product from test set\n",
    "new_idx = random.randint(0, len(x_test) - 1)\n",
    "new_image = x_test[new_idx]\n",
    "new_label = y_test[new_idx]\n",
    "new_desc = feature_descriptor(new_image.reshape(28,28))\n",
    "\n",
    "# Compare with browsing descriptors using cosine similarity\n",
    "def match_score(desc1, desc2):\n",
    "    if desc1 is None or desc2 is None:\n",
    "        return 0\n",
    "    min_len = min(len(desc1), len(desc2))\n",
    "    return cosine_similarity(desc1[:min_len], desc2[:min_len]).mean()\n",
    "\n",
    "similarities = [match_score(new_desc, desc) for desc in browsing_descriptors]\n",
    "\n",
    "plt.imshow(new_image.reshape(28,28), cmap='gray')\n",
    "plt.title(f\"New Product: {class_names[new_label]}\")\n",
    "plt.axis('off')\n",
    "plt.show()\n",
    "\n",
    "for i, sim in enumerate(similarities):\n",
    "    print(f\"Similarity with browsing item {i+1} ({class_names[browsing_labels[i]]}): {sim:.2f}\")"
   ]
  },
  {
   "cell_type": "code",
   "execution_count": null,
   "id": "2d96dedc",
   "metadata": {},
   "outputs": [],
   "source": [
    "# Simulate product price dictionary\n",
    "product_prices = {i: random.randint(20, 200) for i in range(10)}  # class index to price\n",
    "user_budget = (50, 150)\n",
    "\n",
    "print(\"\\nSuggested items within your budget:\")\n",
    "for label, price in product_prices.items():\n",
    "    if user_budget[0] <= price <= user_budget[1]:\n",
    "        print(f\"{class_names[label]} - ${price}\")"
   ]
  }
 ],
 "metadata": {},
 "nbformat": 4,
 "nbformat_minor": 5
}
